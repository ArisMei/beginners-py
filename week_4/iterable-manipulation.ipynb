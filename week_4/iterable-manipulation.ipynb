{
 "cells": [
  {
   "attachments": {},
   "cell_type": "markdown",
   "metadata": {},
   "source": [
    "## Comprehesion iterable "
   ]
  },
  {
   "attachments": {},
   "cell_type": "markdown",
   "metadata": {},
   "source": [
    "To iitialize an iterable in Python, it can be convinient to use what is called a `comprehesion.` It is a way to build an iterable from another iterale, using a for loop."
   ]
  },
  {
   "cell_type": "code",
   "execution_count": 7,
   "metadata": {},
   "outputs": [
    {
     "data": {
      "text/plain": [
       "[0, 1, 2, 3, 4, 5, 6, 7, 8, 9]"
      ]
     },
     "execution_count": 7,
     "metadata": {},
     "output_type": "execute_result"
    }
   ],
   "source": [
    "[x for x in range(0,10)]"
   ]
  },
  {
   "attachments": {},
   "cell_type": "markdown",
   "metadata": {},
   "source": [
    "If statements can also be used in these comprehesion lists:"
   ]
  },
  {
   "cell_type": "code",
   "execution_count": 8,
   "metadata": {},
   "outputs": [
    {
     "name": "stdout",
     "output_type": "stream",
     "text": [
      "[1, 3, 5, 7, 9]\n"
     ]
    }
   ],
   "source": [
    "our_list = [x for x in range(0,10) if x%2 == 1]\n",
    "print(our_list)"
   ]
  },
  {
   "attachments": {},
   "cell_type": "markdown",
   "metadata": {},
   "source": [
    "We can write similar statements for sets and for dictionaries:"
   ]
  },
  {
   "cell_type": "code",
   "execution_count": 9,
   "metadata": {},
   "outputs": [
    {
     "data": {
      "text/plain": [
       "{0, 2, 4, 6, 8}"
      ]
     },
     "execution_count": 9,
     "metadata": {},
     "output_type": "execute_result"
    }
   ],
   "source": [
    "{x - 1 for x in our_list}"
   ]
  },
  {
   "attachments": {},
   "cell_type": "markdown",
   "metadata": {},
   "source": [
    "### Using Python’s enumerate()\n",
    "You can use enumerate() in a loop in almost the same way that you use the original iterable object. Instead of putting the iterable directly after in in the for loop, you put it inside the parentheses of enumerate(). You also have to change the loop variable a little bit, as shown in this example:"
   ]
  },
  {
   "cell_type": "code",
   "execution_count": 10,
   "metadata": {},
   "outputs": [],
   "source": [
    "values = [\"a\", \"b\", \"c\"]"
   ]
  },
  {
   "attachments": {},
   "cell_type": "markdown",
   "metadata": {},
   "source": [
    "When you use `enumerate()`, the function gives you back two loop variables: \n",
    "\n",
    "1. The `count` of the current iteration\n",
    "2. The `value` of the item at the current iteration"
   ]
  },
  {
   "cell_type": "code",
   "execution_count": 11,
   "metadata": {},
   "outputs": [
    {
     "name": "stdout",
     "output_type": "stream",
     "text": [
      "0 a\n",
      "1 b\n",
      "2 c\n"
     ]
    }
   ],
   "source": [
    "for (count, value) in enumerate(values):\n",
    "    print(count, value)"
   ]
  },
  {
   "cell_type": "code",
   "execution_count": 12,
   "metadata": {},
   "outputs": [
    {
     "data": {
      "text/plain": [
       "{0: 1, 1: 3, 2: 5, 3: 7, 4: 9}"
      ]
     },
     "execution_count": 12,
     "metadata": {},
     "output_type": "execute_result"
    }
   ],
   "source": [
    "{x:y for (x,y) in enumerate(our_list)}"
   ]
  },
  {
   "attachments": {},
   "cell_type": "markdown",
   "metadata": {},
   "source": [
    "## Map function\n",
    "\n",
    "The `map()` function is one of Python´s built functions. IT can be used to apply a function each element of an iterable. Ir returns an iterator, it can be converted into the desired iterable."
   ]
  },
  {
   "cell_type": "code",
   "execution_count": 13,
   "metadata": {},
   "outputs": [
    {
     "data": {
      "text/plain": [
       "<map at 0x1c758f44e80>"
      ]
     },
     "execution_count": 13,
     "metadata": {},
     "output_type": "execute_result"
    }
   ],
   "source": [
    "map(lambda a : a**2, our_list)"
   ]
  },
  {
   "cell_type": "code",
   "execution_count": 14,
   "metadata": {},
   "outputs": [
    {
     "data": {
      "text/plain": [
       "[1, 3, 5, 7, 9]"
      ]
     },
     "execution_count": 14,
     "metadata": {},
     "output_type": "execute_result"
    }
   ],
   "source": [
    "our_list"
   ]
  },
  {
   "cell_type": "code",
   "execution_count": 15,
   "metadata": {},
   "outputs": [
    {
     "data": {
      "text/plain": [
       "[1, 9, 25, 49, 81]"
      ]
     },
     "execution_count": 15,
     "metadata": {},
     "output_type": "execute_result"
    }
   ],
   "source": [
    "list(map(lambda a : a**2, our_list))"
   ]
  },
  {
   "attachments": {},
   "cell_type": "markdown",
   "metadata": {},
   "source": [
    "## Zip function\n",
    "\n",
    "The `zip()` function is also one of Python´s built-in functions. It is used to create an iterator of tuples fron iterables."
   ]
  },
  {
   "cell_type": "code",
   "execution_count": 16,
   "metadata": {},
   "outputs": [
    {
     "data": {
      "text/plain": [
       "[(1, 4), (2, 5), (3, 6)]"
      ]
     },
     "execution_count": 16,
     "metadata": {},
     "output_type": "execute_result"
    }
   ],
   "source": [
    "x = [1,2,3]\n",
    "y = [4,5,6]\n",
    "\n",
    "list(zip(x,y))"
   ]
  },
  {
   "attachments": {},
   "cell_type": "markdown",
   "metadata": {},
   "source": [
    "# Sparese data with Spcipy"
   ]
  },
  {
   "attachments": {},
   "cell_type": "markdown",
   "metadata": {},
   "source": [
    "In the rest of the lecture notes, the word “matrix” will be used a lot. If you are not comfortable with it, you can just think of it as a two-dimensional array. When such an object contains a very small amount of information compared to its size (a matrix with mostly zeros or a dataframe with a lot of NaN values), the data is called sparse."
   ]
  },
  {
   "attachments": {},
   "cell_type": "markdown",
   "metadata": {},
   "source": [
    "## Why sparse data?\n",
    "\n",
    "Sparse data is present in a lot of domains:\n",
    "\n",
    "\n",
    "- Search engines: a graph of the web is sparse, so using ranking algorithms like PageRank to rank websites requires calculations involving sparse data.\n",
    "\n",
    "- Natural Language Processing: working on a set of text documents and a vocabulary requires building sparse graphs. The computations required use highly sparse vectors and matrices.\n",
    "\n",
    "- Digital image processing: when the processed images have a lot of black pixels.\n",
    "\n",
    "- Studying communication networks: communication networks or social networks are often sparse (lots of nodes but few links). Using community detection algorithms or other tools requires computations with sparse matrices (since a network/graph can be represented by its adjacency matrix).\n"
   ]
  },
  {
   "attachments": {},
   "cell_type": "markdown",
   "metadata": {},
   "source": [
    "First, sparse data should be stored in an efficient way. Indeed, we do not want to use a large amount of memory for storing a lot of zeros.\n",
    "\n",
    "Second, computations with sparse data can be a problem if we use regular dense two-dimensional arrays in Python. Indeed, multiplying two sparse matrices will involve multiplying and adding a lot of zeros, which are useless operations that take time."
   ]
  },
  {
   "attachments": {},
   "cell_type": "markdown",
   "metadata": {},
   "source": [
    "## How is stored and hendled?\n",
    "\n",
    "The library SciPy provides a sparse matrices module. It provides several types that allow to store spare data in a memory efficient way, but also implements basic arithmetic operations so that computations with sparse matrices focus on “useful” operations.\n",
    "\n",
    "We will talk about the three most important sparse matrix formats provided by SciPy. To choose the right format for the right application, it will be important to consider what kind of operations we want to do with the matrix: * accessing data often * entering new data often * vector matrix multiplication * …"
   ]
  },
  {
   "attachments": {},
   "cell_type": "markdown",
   "metadata": {},
   "source": [
    "### THe coordinate format: COO\n",
    "\n",
    "A COO matrix is a sparse matrix in the coordinate format. The coordinates of non null values and the values are stored. It takes the shape of three arrays:\n",
    "\n",
    "    - an array i of row indices\n",
    "\n",
    "    - an array j of column indices\n",
    "\n",
    "    - an array data of data\n",
    "\n",
    "The value at position (i[k], j[k]) in our matrix is data[k].\n",
    "\n",
    "Advantages:\n",
    "\n",
    "    - easy to construct\n",
    "\n",
    "    - facilitates fast conversion among sparse formats\n",
    "\n",
    "    - very fast conversion to and from CSR/CSC formats\n",
    "\n",
    "Disadvantages:\n",
    "\n",
    "    - does not support direct arithmetic operations\n",
    "\n",
    "    - no efficient slicing\n",
    "\n",
    "Usage suggestion: Use it to construct a sparse matrix and directly convert it to one of the two formats we will present next. It will then allow fast operations.\n",
    "\n",
    "When initializing a COO matrix, one can specify the type of the values that will be stored in the matrix:"
   ]
  },
  {
   "cell_type": "code",
   "execution_count": 17,
   "metadata": {},
   "outputs": [],
   "source": [
    "import numpy as np\n",
    "from scipy.sparse import coo_matrix"
   ]
  },
  {
   "cell_type": "code",
   "execution_count": 18,
   "metadata": {},
   "outputs": [
    {
     "data": {
      "text/plain": [
       "array([[0, 0, 0, 0],\n",
       "       [0, 0, 0, 0],\n",
       "       [0, 0, 0, 0]], dtype=int64)"
      ]
     },
     "execution_count": 18,
     "metadata": {},
     "output_type": "execute_result"
    }
   ],
   "source": [
    "coo_matrix((3,4), dtype = np.int64).toarray()"
   ]
  },
  {
   "cell_type": "code",
   "execution_count": 19,
   "metadata": {},
   "outputs": [
    {
     "name": "stdout",
     "output_type": "stream",
     "text": [
      "  (0, 0)\t4\n",
      "  (3, 3)\t5\n",
      "  (1, 1)\t7\n",
      "  (0, 2)\t9\n"
     ]
    }
   ],
   "source": [
    "row  = np.array([0, 3, 1, 0])\n",
    "col = np.array([0, 3, 1, 2])\n",
    "data = np.array([4, 5, 7, 9])\n",
    "print(coo_matrix((data, (row, col)), shape=(4, 4)))"
   ]
  },
  {
   "cell_type": "code",
   "execution_count": 20,
   "metadata": {},
   "outputs": [
    {
     "name": "stdout",
     "output_type": "stream",
     "text": [
      "[[4 0 9 0]\n",
      " [0 7 0 0]\n",
      " [0 0 0 0]\n",
      " [0 0 0 5]]\n"
     ]
    }
   ],
   "source": [
    "print(coo_matrix((data, (row, col)), shape=(4, 4)).toarray())"
   ]
  },
  {
   "cell_type": "markdown",
   "metadata": {},
   "source": [
    "## The compressed sparse column format: CSC"
   ]
  },
  {
   "attachments": {},
   "cell_type": "markdown",
   "metadata": {},
   "source": [
    "A CSC matrix is a compressed sparse column matrix. The row indices for each column are stored in an array (indices) and the values are stored in a second array (data). A third array (indptr) is used to specify from which index to which index of the two previous arrays each row is. More precisely, the indices in indices[indptr[i]:indptr[i+1]] give the row indices where the data in data[indptr[i]:indptr[i+1]] is. So for each column i, we are given the row indices and the values indices. Notice that the values of a single column are stored consecutively in data but not at all elements of the same row. That is why this format is preferred if calculations impose column accesses and if we want to access slices of columns quickly.\n",
    "\n",
    "Advantages:\n",
    "\n",
    "    - efficient arithmetic operations CSC + CSC, CSC * CSC, etc.\n",
    "\n",
    "    - efficient column slicing\n",
    "\n",
    "    - fast matrix vector products (CSR may be faster)\n",
    "\n",
    "Disadvantages:\n",
    "\n",
    "    - slow row slicing operations (consider CSR)\n",
    "\n",
    "Such a sparce matrix can be initialized from a dense matrix (numpy two-dimensional array or numpy matrix) or from another sparse matrix, whatever its format. It can also be initialized in the same way as a COO matrix, or by directly giving the three needed arrays"
   ]
  },
  {
   "cell_type": "code",
   "execution_count": 21,
   "metadata": {},
   "outputs": [],
   "source": [
    "from scipy.sparse import csc_matrix"
   ]
  },
  {
   "cell_type": "code",
   "execution_count": 22,
   "metadata": {},
   "outputs": [
    {
     "data": {
      "text/plain": [
       "array([[0, 0, 0, 0],\n",
       "       [0, 0, 0, 0],\n",
       "       [0, 0, 0, 0]], dtype=int8)"
      ]
     },
     "execution_count": 22,
     "metadata": {},
     "output_type": "execute_result"
    }
   ],
   "source": [
    "csc_matrix((3,4), dtype = np.int8).toarray()"
   ]
  },
  {
   "cell_type": "code",
   "execution_count": 23,
   "metadata": {},
   "outputs": [],
   "source": [
    "row = np.array([0, 2, 2, 0, 1, 2])\n",
    "col = np.array([0, 0, 1, 2, 2, 2])\n",
    "data = np.array([1, 2, 3, 4, 5, 6])"
   ]
  },
  {
   "cell_type": "code",
   "execution_count": 24,
   "metadata": {},
   "outputs": [],
   "source": [
    "indptr = np.array([0, 2, 3, 6])\n",
    "indices = np.array([0,2,2,0,1,2])\n",
    "data = np.array([1,2,3,4,5,6])"
   ]
  },
  {
   "cell_type": "code",
   "execution_count": 25,
   "metadata": {},
   "outputs": [
    {
     "data": {
      "text/plain": [
       "array([[1, 0, 4],\n",
       "       [0, 0, 5],\n",
       "       [2, 3, 6]], dtype=int32)"
      ]
     },
     "execution_count": 25,
     "metadata": {},
     "output_type": "execute_result"
    }
   ],
   "source": [
    "csc_matrix((data, (row, col)), shape=(3, 3)).toarray()"
   ]
  },
  {
   "cell_type": "code",
   "execution_count": 26,
   "metadata": {},
   "outputs": [
    {
     "name": "stdout",
     "output_type": "stream",
     "text": [
      "  (0, 0)\t1\n",
      "  (2, 0)\t2\n",
      "  (2, 1)\t3\n",
      "  (0, 2)\t4\n",
      "  (1, 2)\t5\n",
      "  (2, 2)\t6\n"
     ]
    }
   ],
   "source": [
    "dense_matrix = np.array([[1, 0, 4],[0, 0, 5],[2, 3, 6]])\n",
    "print(csc_matrix(dense_matrix))"
   ]
  },
  {
   "attachments": {},
   "cell_type": "markdown",
   "metadata": {},
   "source": [
    "## The compressed spars row format: CSR\n",
    "\n",
    "A CSR matrix is a compressed sparse row matrix. The format is the same as the CSC format but here the indices array stores columns indices and the indptr array gives ranges of indices and data arrays that correspond to a specific row (instead of a specific column).\n",
    "\n",
    "This format is used exactly in the same way as CSC but the computation against vectors is faster."
   ]
  },
  {
   "attachments": {},
   "cell_type": "markdown",
   "metadata": {},
   "source": [
    "# SParse data with Pandas\n",
    "\n",
    "The Pandas library also provides handling of sparse data structures. It is mainly used to optimize the memory usage of a sparse dataframe."
   ]
  },
  {
   "cell_type": "code",
   "execution_count": 27,
   "metadata": {},
   "outputs": [],
   "source": [
    "import pandas as pd\n",
    "df = pd.DataFrame(dense_matrix)\n",
    "sdf = df.astype(pd.SparseDtype(\"float\", 0.))"
   ]
  },
  {
   "attachments": {},
   "cell_type": "markdown",
   "metadata": {},
   "source": [
    "The functionalities of such a dataframe are the same but some functions might take longer, especially the printing functions, since the table needs to be reconstructed from the sparse information to be able to print.\n",
    "\n",
    "Note that to build a dataframe from a sparse matrix a specific function has to be used: from_spmatrix(). Notice that it is a function of Pandas’ sparse module."
   ]
  },
  {
   "cell_type": "code",
   "execution_count": 29,
   "metadata": {},
   "outputs": [
    {
     "data": {
      "text/html": [
       "<div>\n",
       "<style scoped>\n",
       "    .dataframe tbody tr th:only-of-type {\n",
       "        vertical-align: middle;\n",
       "    }\n",
       "\n",
       "    .dataframe tbody tr th {\n",
       "        vertical-align: top;\n",
       "    }\n",
       "\n",
       "    .dataframe thead th {\n",
       "        text-align: right;\n",
       "    }\n",
       "</style>\n",
       "<table border=\"1\" class=\"dataframe\">\n",
       "  <thead>\n",
       "    <tr style=\"text-align: right;\">\n",
       "      <th></th>\n",
       "      <th>0</th>\n",
       "      <th>1</th>\n",
       "      <th>2</th>\n",
       "    </tr>\n",
       "  </thead>\n",
       "  <tbody>\n",
       "    <tr>\n",
       "      <th>0</th>\n",
       "      <td>1.0</td>\n",
       "      <td>0.0</td>\n",
       "      <td>0.0</td>\n",
       "    </tr>\n",
       "    <tr>\n",
       "      <th>1</th>\n",
       "      <td>0.0</td>\n",
       "      <td>1.0</td>\n",
       "      <td>0.0</td>\n",
       "    </tr>\n",
       "    <tr>\n",
       "      <th>2</th>\n",
       "      <td>0.0</td>\n",
       "      <td>0.0</td>\n",
       "      <td>1.0</td>\n",
       "    </tr>\n",
       "  </tbody>\n",
       "</table>\n",
       "</div>"
      ],
      "text/plain": [
       "     0    1    2\n",
       "0  1.0  0.0  0.0\n",
       "1  0.0  1.0  0.0\n",
       "2  0.0  0.0  1.0"
      ]
     },
     "execution_count": 29,
     "metadata": {},
     "output_type": "execute_result"
    }
   ],
   "source": [
    "import scipy.sparse\n",
    "mat = scipy.sparse.eye(3)\n",
    "pd.DataFrame.sparse.from_spmatrix(mat)"
   ]
  },
  {
   "cell_type": "code",
   "execution_count": 34,
   "metadata": {},
   "outputs": [
    {
     "data": {
      "text/plain": [
       "[(1, 4, 'a'), (2, 5, 'b'), (3, 6, 'c')]"
      ]
     },
     "execution_count": 34,
     "metadata": {},
     "output_type": "execute_result"
    }
   ],
   "source": [
    "x = [1, 2, 3]\n",
    "y = [4, 5, 6]\n",
    "z = [\"a\", \"b\", \"c\"]\n",
    "\n",
    "[(x[i], y[i], z[i]) for i in range(0, 3)]"
   ]
  },
  {
   "cell_type": "code",
   "execution_count": null,
   "metadata": {},
   "outputs": [],
   "source": []
  }
 ],
 "metadata": {
  "kernelspec": {
   "display_name": "Python 3",
   "language": "python",
   "name": "python3"
  },
  "language_info": {
   "codemirror_mode": {
    "name": "ipython",
    "version": 3
   },
   "file_extension": ".py",
   "mimetype": "text/x-python",
   "name": "python",
   "nbconvert_exporter": "python",
   "pygments_lexer": "ipython3",
   "version": "3.10.2"
  },
  "orig_nbformat": 4
 },
 "nbformat": 4,
 "nbformat_minor": 2
}
